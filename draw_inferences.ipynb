{
 "cells": [
  {
   "cell_type": "code",
   "execution_count": 1,
   "outputs": [],
   "source": [
    "import cv2,os\n",
    "def get_id_color(index):\n",
    "    #temp_index = abs(int(index + 1)) * 3\n",
    "    if index == 1:\n",
    "        color=(0,255,0)\n",
    "    elif index == 2:\n",
    "        color=(255,0,0)\n",
    "    elif index ==3 :\n",
    "        color=(255,255,0)\n",
    "    text_color_bgr = tuple(reversed(color))\n",
    "    return text_color_bgr\n",
    "def mapping(id):\n",
    "    id_to_char={1:'Healthy',2:'Tomato',3:'Unhealthy'}\n",
    "    #ids=[1,2,3]\n",
    "    chars =id_to_char[id]\n",
    "    return(chars)\n",
    "def draw_inferences(image,d_bboxes,d_scores,d_class_ids):\n",
    "\n",
    "    for bbox, score, class_id in zip(d_bboxes, d_scores, d_class_ids):\n",
    "        x1, y1, x2, y2 = int(bbox[0]), int(bbox[1]), int(bbox[2]), int(bbox[3])\n",
    "        color = get_id_color(class_id)\n",
    "        debug_image = cv2.rectangle(image,(x1, y1),(x2, y2),color,thickness=2)\n",
    "        #score = '%.2f' % score\n",
    "\n",
    "        #text = str(mapping(class_id))+':'+str(score)\n",
    "        #debug_image = cv2.putText(debug_image,text,(x1, y1 - 22),cv2.FONT_HERSHEY_SIMPLEX,0.8,color,thickness=2)\n",
    "    return (debug_image)\n"
   ],
   "metadata": {
    "collapsed": false,
    "ExecuteTime": {
     "end_time": "2023-11-07T18:46:47.789827Z",
     "start_time": "2023-11-07T18:46:47.732351Z"
    }
   }
  },
  {
   "cell_type": "code",
   "execution_count": 4,
   "outputs": [
    {
     "name": "stdout",
     "output_type": "stream",
     "text": [
      "[[299 190 325 216]\n",
      " [ 56 406 118 468]\n",
      " [241 185 287 231]\n",
      " [170 358 326 514]\n",
      " [283 167 319 203]\n",
      " [329 452 405 528]\n",
      " [558 374 587 403]\n",
      " [488 465 519 496]\n",
      " [274 491 304 521]\n",
      " [115 536 210 631]\n",
      " [100 451 272 623]\n",
      " [416 408 469 461]\n",
      " [ 38 286 120 368]\n",
      " [299 507 335 543]\n",
      " [545 448 598 501]\n",
      " [578 385 610 417]\n",
      " [216 265 321 370]\n",
      " [221  85 303 167]\n",
      " [421 314 488 381]\n",
      " [498 265 544 311]\n",
      " [551 246 601 296]\n",
      " [556 455 599 498]\n",
      " [627 390 640 403]\n",
      " [  7 470  93 556]\n",
      " [597 370 615 388]\n",
      " [372 391 400 419]\n",
      " [346 134 452 240]\n",
      " [294 347 348 401]\n",
      " [396 566 446 616]\n",
      " [260 471 293 504]\n",
      " [629 557 639 567]\n",
      " [  0 159  46 205]] [0.79130507 0.78103656 0.7704567  0.76468617 0.7585776  0.7570136\n",
      " 0.75394166 0.72159064 0.7182181  0.7161557  0.71510327 0.7088589\n",
      " 0.7003995  0.6945846  0.6896814  0.6737242  0.6632295  0.6107446\n",
      " 0.6045589  0.60273963 0.590219   0.5572574  0.5565722  0.5460501\n",
      " 0.5327854  0.5175541  0.50735086 0.47065786 0.45029625 0.42124456\n",
      " 0.42105636 0.4165871 ] [2 1 2 1 2 3 2 3 2 1 1 3 1 2 3 2 3 1 3 3 1 3 2 1 2 3 1 3 3 2 2 3]\n"
     ]
    },
    {
     "data": {
      "text/plain": "True"
     },
     "execution_count": 4,
     "metadata": {},
     "output_type": "execute_result"
    }
   ],
   "source": [
    "###import detector\n",
    "import matplotlib.pyplot as plt\n",
    "from Detector.detector import ObjectDetector\n",
    "detector_name='yolo_tgi_n'\n",
    "img_name='IMG_1207_JPG.rf.c9baad90b790f02b5fe0fedbeb57a63c.jpg'  ###Bacteria.jpg,Mold.jpg,Purple leaf.jpg,Yellow virus.jpg\n",
    "img_dir='img_test'\n",
    "#img_save_dir=''\n",
    "img_path=os.path.join(img_dir,img_name)\n",
    "detector = ObjectDetector(detector_name)\n",
    "image=cv2.imread(img_path)\n",
    "d_bboxes, d_scores, d_class_ids = detector(image)\n",
    "print(d_bboxes, d_scores, d_class_ids )\n",
    "save_path='inferenced_img.jpg'\n",
    "labeled_img=draw_inferences(image,d_bboxes,d_scores,d_class_ids)\n",
    "#plt.imshow(labeled_img)\n",
    "#cv2.imwrite(save_path,labeled_img)\n"
   ],
   "metadata": {
    "collapsed": false,
    "ExecuteTime": {
     "end_time": "2023-11-07T18:50:46.953961Z",
     "start_time": "2023-11-07T18:50:46.828811Z"
    }
   }
  }
 ],
 "metadata": {
  "kernelspec": {
   "display_name": "Python 3",
   "language": "python",
   "name": "python3"
  },
  "language_info": {
   "codemirror_mode": {
    "name": "ipython",
    "version": 2
   },
   "file_extension": ".py",
   "mimetype": "text/x-python",
   "name": "python",
   "nbconvert_exporter": "python",
   "pygments_lexer": "ipython2",
   "version": "2.7.6"
  }
 },
 "nbformat": 4,
 "nbformat_minor": 0
}
